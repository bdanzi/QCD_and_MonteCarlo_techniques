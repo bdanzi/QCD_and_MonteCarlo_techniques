{
 "cells": [
  {
   "cell_type": "markdown",
   "metadata": {},
   "source": [
    "#  Demonstration of the parton evolution using MC method\n",
    "     1. generate starting distribution in x and add intrisnic transverse mom.\n",
    "     2. evolve sarting distribution to large values of t\n",
    "\n",
    "   Plot starting distribution and intrinsic kt\n",
    "   Plot evolved distribution as function of x and kt\n",
    "\n",
    "###   Authors: H. Jung, A. Bermudez Martinez, L.I. Estevez Banos, J. Lidrych, M. Mendizabal Morentin, S. Taheri Monfared, P. L.S. Connor, Q. Wang, H. Yang, R. Zlebcik "
   ]
  },
  {
   "cell_type": "code",
   "execution_count": 1,
   "metadata": {},
   "outputs": [
    {
     "name": "stdout",
     "output_type": "stream",
     "text": [
      "Welcome to JupyROOT 6.22/06\n"
     ]
    }
   ],
   "source": [
    "# First lets load the libraries which will be needed\n",
    "\n",
    "from math import pi, sin, cos, sqrt, log, log10, exp\n",
    "from ROOT import gRandom, gStyle, TCanvas, TH1D, TLorentzVector"
   ]
  },
  {
   "cell_type": "markdown",
   "metadata": {},
   "source": [
    "Define function which returns 2D point according to the Gaussian distribution"
   ]
  },
  {
   "cell_type": "code",
   "execution_count": 2,
   "metadata": {},
   "outputs": [],
   "source": [
    "def gauss2D(sigma):\n",
    "    kT  = sigma * sqrt(-2*log(gRandom.Uniform()));\n",
    "    phi = 2*pi * gRandom.Uniform()\n",
    "    kx, ky = kT*cos(phi), kT*sin(phi)\n",
    "    return (kx, ky)"
   ]
  },
  {
   "cell_type": "markdown",
   "metadata": {},
   "source": [
    "Get starting PDF at the starting scale $q^2$ ($q^2$=1)"
   ]
  },
  {
   "cell_type": "code",
   "execution_count": 3,
   "metadata": {},
   "outputs": [],
   "source": [
    "Eb = 3500 # Beam energy\n",
    "def get_starting_pdf(q2):\n",
    "    xmin = 0.00001\n",
    "    xmax = 0.999\n",
    "    # get x value according to g(x)\\sim 1/x            \n",
    "    x = xmin * (xmax/xmin)**gRandom.Uniform()\n",
    "    weightx = x*log(xmax/xmin) \n",
    "    # use: xg(x) = 3 (1-x)**5\n",
    "    pdf = 3.*pow((1-x),5)/x\n",
    "\n",
    "    # now generate instrinsic kt according to a gauss distribution  \n",
    "    kx, ky = gauss2D(0.7)\n",
    "    pVec = TLorentzVector()\n",
    "    pVec.SetXYZM(kx, ky, x*Eb, 0.)\n",
    "    return pVec, weightx * pdf\n"
   ]
  },
  {
   "cell_type": "markdown",
   "metadata": {},
   "source": [
    "Calculate Sudakov form factor"
   ]
  },
  {
   "cell_type": "code",
   "execution_count": 4,
   "metadata": {},
   "outputs": [],
   "source": [
    "def sudakov(t0):\n",
    "    #   here we calculate  from the sudakov form factor the next t > t0\n",
    "    epsilon = 0.1\n",
    "    as2pi = 0.1/(2.*pi)\n",
    "    Ca = 3.\n",
    "    # for Pgg use fact = 2*Ca\n",
    "    fac = 2.*Ca \n",
    "    # use fixed alphas and only the 1/(1-z) term of the splitting fct\n",
    "\n",
    "    r1 = gRandom.Uniform()\n",
    "    Pint=log((1.-epsilon)/epsilon) # for 1/(1-z) splitting fct \n",
    "    t2 = -log(r1)/fac/as2pi/Pint\n",
    "    t2 = t0 * exp(t2)\n",
    "    assert(t2 >= t0)\n",
    "    return t2"
   ]
  },
  {
   "cell_type": "markdown",
   "metadata": {},
   "source": [
    "Splitting function which is needed to get the z on the branching point"
   ]
  },
  {
   "cell_type": "code",
   "execution_count": 5,
   "metadata": {},
   "outputs": [],
   "source": [
    "def splitting():\n",
    "    epsilon = 0.1\n",
    "\n",
    "    as2pi = 0.1/2./pi\n",
    "\n",
    "    #\there we calculate  the splitting variable z for 1/z and  1/(1-z)\n",
    "    #\tuse Pgg=6(1/z + 1/(1-z))  // for large z we use z -> 1-z\n",
    "\n",
    "    g0 = 6.*as2pi * log((1.-epsilon)/epsilon)\n",
    "    g1 = 6.*as2pi * log((1.-epsilon)/epsilon)\n",
    "    gtot = g0 + g1 \n",
    "\n",
    "    zmin = epsilon\n",
    "    zmax = 1.-epsilon\n",
    "\n",
    "    r1 = gRandom.Uniform()\n",
    "    r2 = gRandom.Uniform()\n",
    "\n",
    "    z = zmin * (zmax/zmin)**r2\n",
    "    if r1 > g0/gtot:\n",
    "        z = 1. - z\n",
    "    weightz = 1.\n",
    "    return z\n"
   ]
  },
  {
   "cell_type": "markdown",
   "metadata": {},
   "source": [
    "Evolve the PDF between scales $q^2_0$ and $q^2$, calculate the kinematics of the parton"
   ]
  },
  {
   "cell_type": "code",
   "execution_count": 6,
   "metadata": {},
   "outputs": [],
   "source": [
    "def evolve_pdf(q20, q2, p0):\n",
    "    x = p0.Pz()/Eb\n",
    "    kx = p0.Px()\n",
    "    ky = p0.Py()\n",
    "    weightx = 1.\n",
    "    t1 = q20\n",
    "    tcut = q2\n",
    "    while t1 < tcut:\n",
    "        # here we do now the evolution\n",
    "        # first we generate t\n",
    "        t0 = t1\n",
    "        t1 = sudakov(t0) \n",
    "        \n",
    "        # now we generate z\n",
    "        z = splitting()\n",
    "        #   since the sudakov involves only the 1/(1-z) part \n",
    "        #   of the splitting fct, we need to weight each branching\n",
    "        #   by the ratio of the integral of the full and \n",
    "        #   approximate splitting fct\n",
    "\n",
    "        ratio_splitting = 2 # for using Pgg\n",
    "\n",
    "        if  t1 < tcut:\n",
    "            x = x*z\n",
    "            weightx = weightx *ratio_splitting\n",
    "            # \n",
    "            # use here the angular ordering condition: sqrt(t1) = qt/(1-z) \n",
    "            # and apply this also to the propagator gluons\n",
    "            #\n",
    "            phi = 2*pi*gRandom.Uniform()\n",
    "            kx +=  sqrt(t1)*cos(phi)*(1.-z)\n",
    "            ky +=  sqrt(t1)*sin(phi)*(1.-z)                     \n",
    "            #   kx += sqrt(t1)*cos(phi)\n",
    "            #   ky += sqrt(t1)*sin(phi)                     \n",
    "    k = TLorentzVector()\n",
    "    k.SetXYZM(kx, ky, x*Eb, 0.)\n",
    "    return k, weightx"
   ]
  },
  {
   "cell_type": "markdown",
   "metadata": {},
   "source": [
    "Book histograms"
   ]
  },
  {
   "cell_type": "code",
   "execution_count": 7,
   "metadata": {},
   "outputs": [],
   "source": [
    "histo1  =  TH1D(\"x0\",\"x0\",100, -5, 0.)\n",
    "histo2  =  TH1D(\"kt0 \",\"kt0 \",100, 0, 10.)\n",
    "histo3  =  TH1D(\"x\",\"x\",100, -5, 0.)\n",
    "histo4  =  TH1D(\"kt \",\"kt \",1000, 0, 1000.)"
   ]
  },
  {
   "cell_type": "code",
   "execution_count": 8,
   "metadata": {},
   "outputs": [],
   "source": [
    "# initialise random number generator: \n",
    "gRandom.SetSeed(32767)"
   ]
  },
  {
   "cell_type": "markdown",
   "metadata": {},
   "source": [
    "Do the evolution between scales q20 and q21 npoints times"
   ]
  },
  {
   "cell_type": "code",
   "execution_count": 9,
   "metadata": {},
   "outputs": [],
   "source": [
    "q20 = 1\n",
    "q21 = 100**2\n",
    "npoints = 100000\n",
    "for n1 in range(npoints):\n",
    "    # generate starting distribution in x and kt\n",
    "    k0, weightx0 = get_starting_pdf(q20)\n",
    "    \n",
    "    # now do the evolution\t\n",
    "    k, weightx = evolve_pdf(q20, q21, k0)   \n",
    "    weightx = weightx0 * weightx\n",
    "\n",
    "    # weighting with 1/x0:\n",
    "    # plot dxg(x)/dlogx *Jacobian, Jacobian dlogx/dx = 1/x\n",
    "    # log(x) = 2.3026 log10(x)\n",
    "    x   = k.Pz()/Eb\n",
    "    x0  = k0.Pz()/Eb\n",
    "    \n",
    "    #At the starting scale q20\n",
    "    histo1.Fill(log10(x0), weightx0/log(10))\n",
    "    histo2.Fill(k0.Pt(), weightx0)\n",
    "    \n",
    "    #At the final scale q2\n",
    "    histo3.Fill(log10(x),  weightx/log(10))\n",
    "    histo4.Fill(k.Pt(), weightx)"
   ]
  },
  {
   "cell_type": "markdown",
   "metadata": {},
   "source": [
    "Plot the x distribution in the starting scale and after the evolution"
   ]
  },
  {
   "cell_type": "code",
   "execution_count": 10,
   "metadata": {},
   "outputs": [
    {
     "data": {
      "image/png": "[encoded data removed]",
      "text/plain": [
       "<IPython.core.display.Image object>"
      ]
     },
     "metadata": {},
     "output_type": "display_data"
    },
    {
     "data": {
      "image/png": "[encoded data removed]",
      "text/plain": [
       "<IPython.core.display.Image object>"
      ]
     },
     "metadata": {},
     "output_type": "display_data"
    }
   ],
   "source": [
    "gStyle.SetOptStat(0) # get rid of statistics box\n",
    "c = TCanvas();\n",
    "c.Divide(2,1);\n",
    "c.cd(1);\n",
    "histo1.Scale(1./npoints, \"width\");\n",
    "histo1.Draw(\"hist e\");\n",
    "\n",
    "c.cd(2);\n",
    "histo3.Scale(1./npoints, \"width\");\n",
    "histo3.Draw(\"hist e\");\n",
    "c.Draw()\n",
    "# -\n",
    "\n",
    "# Plot the $k_T$ distribution in the starting scale and after the evolution\n",
    "\n",
    "# +\n",
    "d = TCanvas();\n",
    "d.SetLogy();\n",
    "d.Divide(2,1);\n",
    "d.cd(1);\n",
    "histo2.Scale(1./npoints, \"width\");\n",
    "d.SetLogy();\n",
    "histo2.Draw(\"hist e\");\n",
    "\n",
    "d.cd(2);\n",
    "histo4.Scale(1./npoints, \"width\");\n",
    "d.SetLogy();\n",
    "histo4.Draw(\"hist e\");\n",
    "d.Draw()"
   ]
  }
 ],
 "metadata": {
  "kernelspec": {
   "display_name": "Python 3",
   "language": "python",
   "name": "python3"
  },
  "language_info": {
   "codemirror_mode": {
    "name": "ipython",
    "version": 3
   },
   "file_extension": ".py",
   "mimetype": "text/x-python",
   "name": "python",
   "nbconvert_exporter": "python",
   "pygments_lexer": "ipython3",
   "version": "3.8.5"
  }
 },
 "nbformat": 4,
 "nbformat_minor": 4
}
