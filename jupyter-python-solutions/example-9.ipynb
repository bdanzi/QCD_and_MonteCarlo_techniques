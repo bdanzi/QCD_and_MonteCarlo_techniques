{
 "cells": [
  {
   "cell_type": "markdown",
   "metadata": {},
   "source": [
    "# Calculation of the Higgs cross section using Monte Carlo integration.\n",
    "   We calculate the x-section for p p -> Higgs  + X\n",
    "   and plot the distribution in pt and rapidity\n",
    "\n",
    "   We use our own evolved pdf.\n",
    "\n",
    " ![gg2H](https://upload.wikimedia.org/wikipedia/commons/0/0e/Higgs-gluon-fusion.svg)  \n",
    "   \n",
    "###   Authors: H. Jung, A. Bermudez Martinez, L.I. Estevez Banos, J. Lidrych, M. Mendizabal Morentin, S. Taheri Monfared, P. L.S. Connor, Q. Wang, H. Yang, R. Zlebcik "
   ]
  },
  {
   "cell_type": "code",
   "execution_count": 1,
   "metadata": {},
   "outputs": [
    {
     "name": "stdout",
     "output_type": "stream",
     "text": [
      "Welcome to JupyROOT 6.22/06\n"
     ]
    }
   ],
   "source": [
    "# Import what is necessary\n",
    "\n",
    "from math import pi, sin, cos, log, log10, sqrt, exp\n",
    "from ROOT import gRandom, gStyle, TLorentzVector, TCanvas, TH1D"
   ]
  },
  {
   "cell_type": "markdown",
   "metadata": {},
   "source": [
    "We make use of the code from example-8"
   ]
  },
  {
   "cell_type": "code",
   "execution_count": 2,
   "metadata": {},
   "outputs": [],
   "source": [
    "def sigma(m2):\n",
    "    # calculate partonic x-section\n",
    "    #  \n",
    "    # calculate sigma0 (qq -> gamma^*)\n",
    "    # double aem=1./137.;\n",
    "    # result = 4.*pi*pi*aem/3.;\n",
    "    #\n",
    "    # calculate sigma0(gg->H) \n",
    "    # sigma0 = as^2/pi /576 * GF * sqrt(2)*\\Delta(1.-tau) \n",
    "    aS = 0.1      # alphaS\n",
    "    GF = 1.166e-5 # Fermi constant\n",
    "    result = aS**2 * sqrt(2.) * GF /pi / 576. \n",
    "    return result "
   ]
  },
  {
   "cell_type": "markdown",
   "metadata": {},
   "source": [
    "here we use the evolution code from example-7"
   ]
  },
  {
   "cell_type": "code",
   "execution_count": 3,
   "metadata": {},
   "outputs": [],
   "source": [
    "# Define function which returns 2D point according to the Gaussian distribution\n",
    "\n",
    "def gauss2D(sigma):\n",
    "    kT  = sigma * sqrt(-2*log(gRandom.Uniform()));\n",
    "    phi = 2*pi * gRandom.Uniform()\n",
    "    kx, ky = kT*cos(phi), kT*sin(phi)\n",
    "    return (kx, ky)\n",
    "\n",
    "# Get PDF at the scale $q^2$ (currently no dependence on $q^2$)\n",
    "\n",
    "def get_starting_pdf(q2):\n",
    "    xmin = 0.0001\n",
    "    xmax = 0.999\n",
    "    # get x value according to g(x)\\sim 1/x            \n",
    "    x = xmin * (xmax/xmin)**gRandom.Uniform()\n",
    "    weightx = x*log(xmax/xmin) \n",
    "    # use: xg(x) = 3 (1-x)**5\n",
    "    pdf = 3.*pow((1-x),5)/x\n",
    "\n",
    "    # now generate instrinsic kt according to a gauss distribution  \n",
    "    kx, ky = gauss2D(0.7)\n",
    "    pVec = TLorentzVector()\n",
    "    pVec.SetXYZM(kx, ky, x*Eb, 0.)\n",
    "    return pVec, weightx * pdf\n",
    "\n",
    "# Calculate Sudakov form factor\n",
    "\n",
    "def sudakov(t0):\n",
    "    #   here we calculate  from the sudakov form factor the next t > t0\n",
    "    epsilon = 0.1\n",
    "    as2pi = 0.1/(2.*pi)\n",
    "    Ca = 3.\n",
    "    # for Pgg use fact = 2*Ca\n",
    "    fac = 2.*Ca \n",
    "    # use fixed alphas and only the 1/(1-z) term of the splitting fct\n",
    "\n",
    "    r1 = gRandom.Uniform()\n",
    "    Pint=log((1.-epsilon)/epsilon) # for 1/(1-z) splitting fct \n",
    "    t2 = -log(r1)/fac/as2pi/Pint\n",
    "    t2 = t0 * exp(t2)\n",
    "    assert(t2 >= t0)\n",
    "    return t2\n",
    "\n",
    "# The splitting function which is needed to get the z on the branching point\n",
    "\n",
    "def splitting():\n",
    "    epsilon = 0.1\n",
    "\n",
    "    as2pi = 0.1/2./pi\n",
    "\n",
    "    #\there we calculate  the splitting variable z for 1/z and  1/(1-z)\n",
    "    #\tuse Pgg=6(1/z + 1/(1-z))  // for large z we use z -> 1-z\n",
    "\n",
    "    g0 = 6.*as2pi * log((1.-epsilon)/epsilon)\n",
    "    g1 = 6.*as2pi * log((1.-epsilon)/epsilon)\n",
    "    gtot = g0 + g1 \n",
    "\n",
    "    zmin = epsilon\n",
    "    zmax = 1.-epsilon\n",
    "\n",
    "    r1 = gRandom.Uniform()\n",
    "    r2 = gRandom.Uniform()\n",
    "\n",
    "    z = zmin * (zmax/zmin)**r2\n",
    "    if r1 > g0/gtot:\n",
    "        z = 1. - z\n",
    "    weightz = 1.\n",
    "    return z\n",
    "\n",
    "# Evolve the PDF between scales $q^2_0$ and $q^2$, the kinematics of the parton in the beginning is described by four-vector p0\n",
    "\n",
    "def evolve_pdf(q20, q2, p0):\n",
    "    x = p0.Pz()/Eb\n",
    "    kx = p0.Px()\n",
    "    ky = p0.Py()\n",
    "    weightx = 1.\n",
    "    t1 = q20\n",
    "    tcut = q2\n",
    "    while t1 < tcut:\n",
    "        # here we do now the evolution\n",
    "        # first we generate t\n",
    "        t0 = t1\n",
    "        t1 = sudakov(t0) \n",
    "        \n",
    "        # now we generate z\n",
    "        z = splitting()\n",
    "        #   since the sudakov involves only the 1/(1-z) part \n",
    "        #   of the splitting fct, we need to weight each branching\n",
    "        #   by the ratio of the integral of the full and \n",
    "        #   approximate splitting fct\n",
    "\n",
    "        ratio_splitting = 2 # for using Pgg\n",
    "\n",
    "        if  t1 < tcut:\n",
    "            x = x*z\n",
    "            weightx = weightx *ratio_splitting\n",
    "            # \n",
    "            # use here the angular ordering condition: sqrt(t1) = qt/(1-z) \n",
    "            # and apply this also to the propagator gluons\n",
    "            #\n",
    "            phi = 2*pi*gRandom.Uniform()\n",
    "            kx +=  sqrt(t1)*cos(phi)*(1.-z)\n",
    "            ky +=  sqrt(t1)*sin(phi)*(1.-z)                     \n",
    "            #   kx += sqrt(t1)*cos(phi)\n",
    "            #   ky += sqrt(t1)*sin(phi)                     \n",
    "    k = TLorentzVector()\n",
    "    k.SetXYZM(kx, ky, x*Eb, 0.)\n",
    "    return k, weightx\n"
   ]
  },
  {
   "cell_type": "markdown",
   "metadata": {},
   "source": [
    "get parton distribution"
   ]
  },
  {
   "cell_type": "code",
   "execution_count": 4,
   "metadata": {},
   "outputs": [],
   "source": [
    "def getpdf(q2):\n",
    "    # generate starting distribution in x and kt\n",
    "    q20 = 1\n",
    "    k0, weightx0 = get_starting_pdf(q20)\n",
    "    x0 = k0.Pz()/Eb\n",
    "    \n",
    "    # now do the evolution\t\n",
    "    k, weightxf = evolve_pdf(q20, q2, k0)  \n",
    "    xf = k.Pz()/Eb\n",
    "     \n",
    "    weightx = weightx0 * weightxf\n",
    "    momsum0 = x0*weightx0\n",
    "    momsum = xf*weightx\n",
    "    \n",
    "    return k, weightx "
   ]
  },
  {
   "cell_type": "code",
   "execution_count": 5,
   "metadata": {},
   "outputs": [],
   "source": [
    "# Book the histograms\n",
    "\n",
    "histo1  =  TH1D(\"x1\",\"x1\",100, -4, 0.)\n",
    "histo2  =  TH1D(\"x2\",\"x2\",100, -4, 0.)\n",
    "histo3  =  TH1D(\"kt1 \",\"kt1 \",100, 0, 100.)\n",
    "histo4  =  TH1D(\"kt2 \",\"kt2 \",100, 0, 100.)\n",
    "histo5  =  TH1D(\"pt \",\"pt \",50, 0, 200.)\n",
    "histo6  =  TH1D(\"eta \",\"eta\",50, -8, 8.)\n",
    "histo7  =  TH1D(\"Mass \",\"mass\",50, 60., 160.)\n"
   ]
  },
  {
   "cell_type": "code",
   "execution_count": 6,
   "metadata": {},
   "outputs": [
    {
     "name": "stdout",
     "output_type": "stream",
     "text": [
      " sqrt(s) =  7000.0\n"
     ]
    }
   ],
   "source": [
    "s=4*3500.*3500 # center of mass energy\n",
    "Eb = sqrt(s)/2 # Beam energy\n",
    "\n",
    "print( \" sqrt(s) = \" , sqrt(s) )"
   ]
  },
  {
   "cell_type": "code",
   "execution_count": 7,
   "metadata": {},
   "outputs": [],
   "source": [
    "# Scale of the process and the mass window\n",
    "\n",
    "q2 = 10000 # this gives reasonable results... remember we use simplifications\n",
    "mass_min = 0.\n",
    "mass_max = 200.\n",
    "\n",
    "m_higgs = 125.\n",
    "Gamma = 0.4"
   ]
  },
  {
   "cell_type": "code",
   "execution_count": null,
   "metadata": {},
   "outputs": [],
   "source": [
    "# Loop over MC events\n",
    "\n",
    "sum0 = sum00 = 0\n",
    "nacc = 0\n",
    "npoints = 1000000\n",
    "#npoints = 10000000\n",
    "\n",
    "\n",
    "\n",
    "for n1 in range(npoints):\n",
    "    # generate pA of incoming parton 1\n",
    "    pA, weightx1 = getpdf(q2)\n",
    "    # generate pB of incoming parton 2\n",
    "    pB, weightx2 = getpdf(q2)\n",
    "    pB.SetPz(-pB.Pz())\n",
    "\n",
    "    x1 = pA.Pz() / Eb\n",
    "    x2 =-pB.Pz() / Eb\n",
    "    # plot dxg(x)/dlogx *Jacobian, Jacobian dlogx/dx = 1/x\n",
    "    histo1.Fill(log10(x1),weightx1/log(10))\n",
    "    histo2.Fill(log10(x2),weightx2/log(10))\n",
    "    histo3.Fill(pA.Pt(), weightx1)\n",
    "    histo4.Fill(pB.Pt(), weightx2)\n",
    "\n",
    "    # total p4\n",
    "    pH = pA + pB\n",
    "    mass = pH.M()\n",
    "\n",
    "    # calculate rapidity of Higgs\n",
    "    # rapidity = 0.5 * log(x1/x2) \n",
    "    if mass < mass_min or mass > mass_max:\n",
    "        continue\n",
    "    # note, pdfs are already included in weightx  \n",
    "    \n",
    "    Hx1x2 = weightx1*weightx2* sigma(mass**2)\n",
    "    # multiply with a Breit Wigner resonance\n",
    "    Hx1x2 = Hx1x2 * Gamma/(pow((mass-m_higgs),2) + pow(Gamma,2)/4)/2./pi\n",
    "             \n",
    "    # Change units to nb\n",
    "    gev2nb = 0.3893857E+6\n",
    "    ff = Hx1x2 * gev2nb\n",
    "\n",
    "    nacc += 1\n",
    "    sum0  +=  ff\n",
    "    sum00 +=  ff**2\n",
    "    # weighting with 1/x0:\n",
    "    # plot dxg(x)/dlogx *Jacobian, Jacobian dlogx/dx = 1/x\n",
    "\n",
    "    histo5.Fill(pH.Pt(), ff)\n",
    "    histo6.Fill(pH.Rapidity(), ff)\n",
    "    histo7.Fill(mass,  ff)"
   ]
  },
  {
   "cell_type": "markdown",
   "metadata": {},
   "source": [
    "Normalization and evaluation of the error"
   ]
  },
  {
   "cell_type": "code",
   "execution_count": null,
   "metadata": {},
   "outputs": [],
   "source": [
    "sum0  /= npoints\n",
    "sum00 /= npoints\n",
    "sigma2 = sum00 - sum0*sum0 \n",
    "error = sqrt(sigma2/npoints) \n",
    "print (\" nr of events accepted: \", nacc )\n",
    "print (\" integral for Higgs xsection is [pb]: \" , sum0 * 1000., \" +/- \" , error*1000.)"
   ]
  },
  {
   "cell_type": "markdown",
   "metadata": {},
   "source": [
    "Plotting of x1, x2 and kT1 and kT2"
   ]
  },
  {
   "cell_type": "code",
   "execution_count": null,
   "metadata": {},
   "outputs": [],
   "source": [
    "gStyle.SetOptStat(0) # get rid of statistics box\n",
    "c = TCanvas()\n",
    "# divide the canvas in 1 parts in x and 1 in y\n",
    "c.Divide(2,2)\n",
    "c.cd(1)\n",
    "histo1.Scale(1./npoints, \"width\")\n",
    "histo1.Draw()\n",
    "c.cd(2)\n",
    "histo2.Scale(1./npoints, \"width\")\n",
    "histo2.Draw()\n",
    "c.cd(3)\n",
    "histo3.Draw()\n",
    "c.cd(4)\n",
    "histo4.Draw()\n",
    "c.Draw()"
   ]
  },
  {
   "cell_type": "markdown",
   "metadata": {},
   "source": [
    "Draw the pT, eta and mass of the Higgs boson"
   ]
  },
  {
   "cell_type": "code",
   "execution_count": null,
   "metadata": {},
   "outputs": [],
   "source": [
    "c5 = TCanvas()\n",
    "histo5.Draw()\n",
    "c5.Draw()\n",
    "c6 = TCanvas()\n",
    "histo6.Draw()\n",
    "c6.Draw()\n",
    "c7 = TCanvas()\n",
    "histo7.Draw()\n",
    "c7.Draw()"
   ]
  }
 ],
 "metadata": {
  "kernelspec": {
   "display_name": "Python 3",
   "language": "python",
   "name": "python3"
  },
  "language_info": {
   "codemirror_mode": {
    "name": "ipython",
    "version": 3
   },
   "file_extension": ".py",
   "mimetype": "text/x-python",
   "name": "python",
   "nbconvert_exporter": "python",
   "pygments_lexer": "ipython3",
   "version": "3.8.5"
  }
 },
 "nbformat": 4,
 "nbformat_minor": 4
}
