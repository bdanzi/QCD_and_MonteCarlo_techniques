{
 "cells": [
  {
   "cell_type": "markdown",
   "metadata": {},
   "source": [
    "#   Sudakov form factor and Monte Carlo integration.\n",
    "\n",
    "   We calculate the Sudakov form factor\n",
    "   and plot it for different upper scales as function of pt\n",
    "\n",
    "###   Authors: H. Jung, A. Bermudez Martinez, L.I. Estevez Banos, J. Lidrych, M. Mendizabal Morentin, S. Taheri Monfared, P. L.S. Connor, Q. Wang, H. Yang, R. Zlebcik "
   ]
  },
  {
   "cell_type": "code",
   "execution_count": 1,
   "metadata": {},
   "outputs": [
    {
     "name": "stdout",
     "output_type": "stream",
     "text": [
      "Welcome to JupyROOT 6.22/00\n"
     ]
    }
   ],
   "source": [
    "# Import libraries which will be needed\n",
    "from math import pi, sqrt, log, exp\n",
    "from ROOT import TH1D, TCanvas, gRandom,gStyle"
   ]
  },
  {
   "cell_type": "markdown",
   "metadata": {},
   "source": [
    "The strong coupling alpha_s, input q is in GeV"
   ]
  },
  {
   "cell_type": "code",
   "execution_count": 2,
   "metadata": {},
   "outputs": [],
   "source": [
    "def alphaS(q):\n",
    "    QCDlam = 0.2  #Lambda QCD for 3 flavours\n",
    "    Qlam0  = 1    #scale freezing\n",
    "    nf     = 3    #number of flavours\n",
    "    beta0  = (33 - 2*nf) / 6 \n",
    "    Qval = max(Qlam0, q)\n",
    "    return pi / (beta0*log(Qval/QCDlam))"
   ]
  },
  {
   "cell_type": "markdown",
   "metadata": {},
   "source": [
    "The splitting function at the LO without $\\alpha_s$\n",
    "gluon -> gluon or quark -> quark splitting"
   ]
  },
  {
   "cell_type": "code",
   "execution_count": 3,
   "metadata": {},
   "outputs": [],
   "source": [
    "def Splitting(z):\n",
    "    # return 6*(1/z -2 +z*(1-z) + 1/(1-z)) # g -> g\n",
    "    return 4/3*((1+z*z)/(1-z)) # q -> q"
   ]
  },
  {
   "cell_type": "markdown",
   "metadata": {},
   "source": [
    "Integrand inside of the Sudakov, \n",
    "note this is a bit different from C++ example"
   ]
  },
  {
   "cell_type": "code",
   "execution_count": 4,
   "metadata": {},
   "outputs": [],
   "source": [
    "def suda(t1, t2):\n",
    "    # Generate randomly q2\n",
    "    q2 = t1*pow(t2/t1, gRandom.Uniform())\n",
    "    # we generate here z1 = 1-z, \n",
    "    # because we have a pole in the splitting functions \\sim 1/(1-z)       \n",
    "    # Generate randomly z1\n",
    "    z1min,z1max = 0.01, 0.99\n",
    "    z1= z1min*pow(z1max/z1min, gRandom.Uniform())\n",
    "\n",
    "    z = 1. - z1\n",
    "    q = sqrt(q2)\n",
    "    integrand = alphaS(q)/2/pi * Splitting(z) /q2\t \n",
    "    weight = q2*log(t2/t1) * z1*log(z1max/z1min)\n",
    "    return integrand*weight "
   ]
  },
  {
   "cell_type": "markdown",
   "metadata": {},
   "source": [
    "Book a histogram"
   ]
  },
  {
   "cell_type": "code",
   "execution_count": 6,
   "metadata": {},
   "outputs": [],
   "source": [
    "TH1D.SetDefaultSumw2()\n",
    "npoints = 100000\n",
    "ntmax = 20\n",
    "tmin, tmax = 1., 500. \n",
    "histo1 = TH1D(\"sudakov\",\";q^{2};sudakov\", ntmax, tmin, tmax)\n"
   ]
  },
  {
   "cell_type": "code",
   "execution_count": 7,
   "metadata": {},
   "outputs": [
    {
     "name": "stdout",
     "output_type": "stream",
     "text": [
      " t2 =  500.0  t1 =  13.475  Delta_S =  0.3309805463640781  +- 0.0002676086586669011\n",
      " t2 =  500.0  t1 =  38.425  Delta_S =  0.4835127623408347  +- 0.0002285292287213892\n",
      " t2 =  500.0  t1 =  63.375  Delta_S =  0.5680955539801948  +- 0.0002001070833986305\n",
      " t2 =  500.0  t1 =  88.32499999999999  Delta_S =  0.6284297894362725  +- 0.0001780268935184011\n",
      " t2 =  500.0  t1 =  113.27499999999999  Delta_S =  0.6760758521433455  +- 0.00015961131134226803\n",
      " t2 =  500.0  t1 =  138.225  Delta_S =  0.7155288266467261  +- 0.00014317678037534267\n",
      " t2 =  500.0  t1 =  163.17499999999998  Delta_S =  0.7490490850445063  +- 0.00012831874669131608\n",
      " t2 =  500.0  t1 =  188.125  Delta_S =  0.7786561215483672  +- 0.00011489566205904302\n",
      " t2 =  500.0  t1 =  213.075  Delta_S =  0.8051892817176851  +- 0.00010247056664900861\n",
      " t2 =  500.0  t1 =  238.02499999999998  Delta_S =  0.8289843588222955  +- 9.073611322117563e-05\n",
      " t2 =  500.0  t1 =  262.975  Delta_S =  0.8509730722026737  +- 7.995633108930334e-05\n",
      " t2 =  500.0  t1 =  287.925  Delta_S =  0.8712053795311789  +- 7.009002108645851e-05\n",
      " t2 =  500.0  t1 =  312.875  Delta_S =  0.8899244175555772  +- 6.024454980751709e-05\n",
      " t2 =  500.0  t1 =  337.825  Delta_S =  0.9074904063137559  +- 5.13023176617302e-05\n",
      " t2 =  500.0  t1 =  362.77500000000003  Delta_S =  0.9239349976035474  +- 4.255893100550585e-05\n",
      " t2 =  500.0  t1 =  387.725  Delta_S =  0.9393481825375279  +- 3.3952298060306745e-05\n",
      " t2 =  500.0  t1 =  412.675  Delta_S =  0.9541039855147299  +- 2.6033907380085453e-05\n",
      " t2 =  500.0  t1 =  437.625  Delta_S =  0.9679986208176621  +- 1.8285049271518e-05\n",
      " t2 =  500.0  t1 =  462.575  Delta_S =  0.9812444766488355  +- 1.0789480389351025e-05\n",
      " t2 =  500.0  t1 =  487.52500000000003  Delta_S =  0.9938859867902681  +- 3.540877621658987e-06\n"
     ]
    }
   ],
   "source": [
    "# Loop over data points in the histogram\n",
    "sum0 = sum00 = 0\n",
    "\n",
    "for nt in range(1, ntmax+1):\n",
    "    t1 = histo1.GetBinCenter(nt)\n",
    "    t2 = tmax \n",
    "    for i in range(npoints):\n",
    "        ff = suda(t1, t2)\n",
    "        sum0  +=  ff\n",
    "        sum00 +=  ff**2\n",
    "        \n",
    "    sum0  /= npoints\n",
    "    sum00 /= npoints\n",
    "    sigma2 = sum00 - sum0*sum0\n",
    "    error = sqrt(sigma2/npoints)\n",
    "\n",
    "    sudakov = exp(-sum0)\n",
    "    sudError = sudakov*error #Error of the sudakov\n",
    "    \n",
    "    print (\" t2 = \", tmax , \" t1 = \", t1 , \" Delta_S = \" , sudakov , \" +-\" , sudError) \n",
    "    histo1.SetBinContent(nt, sudakov)\n",
    "    histo1.SetBinError(nt, sudError)"
   ]
  },
  {
   "cell_type": "code",
   "execution_count": 8,
   "metadata": {},
   "outputs": [
    {
     "data": {
      "image/png": "[encoded data removed]",
      "text/plain": [
       "<IPython.core.display.Image object>"
      ]
     },
     "metadata": {},
     "output_type": "display_data"
    }
   ],
   "source": [
    "# Plot the Sudakov factor\n",
    "\n",
    "c = TCanvas()\n",
    "gStyle.SetPadTickY(1) # ticks at right side\n",
    "gStyle.SetOptStat(0)  # get rid of statistics box\n",
    "c.SetLogy()\n",
    "histo1.Draw()\n",
    "c.Draw()"
   ]
  },
  {
   "cell_type": "code",
   "execution_count": null,
   "metadata": {},
   "outputs": [],
   "source": []
  }
 ],
 "metadata": {
  "kernelspec": {
   "display_name": "Python 3",
   "language": "python",
   "name": "python3"
  },
  "language_info": {
   "codemirror_mode": {
    "name": "ipython",
    "version": 3
   },
   "file_extension": ".py",
   "mimetype": "text/x-python",
   "name": "python",
   "nbconvert_exporter": "python",
   "pygments_lexer": "ipython3",
   "version": "3.8.5"
  }
 },
 "nbformat": 4,
 "nbformat_minor": 4
}
