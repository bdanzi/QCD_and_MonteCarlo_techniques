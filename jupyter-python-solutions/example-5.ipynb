{
 "cells": [
  {
   "cell_type": "markdown",
   "metadata": {},
   "source": [
    "# Testing Monte Carlo integration.\n",
    "\n",
    "   We have a test function:  g0=(1-x)**pow1/x\n",
    "   We weight the histo with the function value.\n",
    "   It is integrated over the region from xmin to 1.\n",
    "\n",
    "   We calculate the result and its error.\n",
    "   \n",
    "###   Authors: H. Jung, A. Bermudez Martinez, L.I. Estevez Banos, J. Lidrych, M. Mendizabal Morentin, S. Taheri Monfared, P. L.S. Connor, Q. Wang, H. Yang, R. Zlebcik "
   ]
  },
  {
   "cell_type": "markdown",
   "metadata": {},
   "source": [
    "Import what is needed"
   ]
  },
  {
   "cell_type": "code",
   "execution_count": 1,
   "metadata": {},
   "outputs": [
    {
     "name": "stdout",
     "output_type": "stream",
     "text": [
      "Welcome to JupyROOT 6.22/06\n"
     ]
    }
   ],
   "source": [
    "from ROOT import gRandom, TMath\n",
    "from math import sqrt, log"
   ]
  },
  {
   "cell_type": "markdown",
   "metadata": {},
   "source": []
  },
  {
   "cell_type": "code",
   "execution_count": 2,
   "metadata": {},
   "outputs": [],
   "source": [
    "def g0(z):\n",
    "    return (1 - z)**5 / z"
   ]
  },
  {
   "cell_type": "code",
   "execution_count": 3,
   "metadata": {},
   "outputs": [],
   "source": [
    "npoints = 100000 # Loop over random points in the 2D space"
   ]
  },
  {
   "cell_type": "code",
   "execution_count": 4,
   "metadata": {},
   "outputs": [],
   "source": [
    "gRandom.SetSeed(32767) # initialise random number generator"
   ]
  },
  {
   "cell_type": "code",
   "execution_count": 5,
   "metadata": {},
   "outputs": [],
   "source": [
    "# The lower limit of the integration, the upper is 1\n",
    "xmin = 1e-4"
   ]
  },
  {
   "cell_type": "code",
   "execution_count": 6,
   "metadata": {},
   "outputs": [],
   "source": [
    "xg0 = xg00 = 0\n",
    "for n1 in range(npoints):\n",
    "    # here do the calculation with importance sampling\n",
    "    x0 = xmin**gRandom.Uniform()\n",
    "    weight = x0*log(1/xmin)\n",
    "    # here do the calculation using linear sampling\n",
    "    # x0 = xmin+(1-xmin)*gRandom.Uniform()\n",
    "    # weight = 1-xmin\n",
    "    f  = g0(x0) \n",
    "    ff = weight*f\n",
    "    xg0  +=  ff\n",
    "    xg00 +=  ff**2"
   ]
  },
  {
   "cell_type": "markdown",
   "metadata": {},
   "source": [
    "Calculate the integral"
   ]
  },
  {
   "cell_type": "code",
   "execution_count": 7,
   "metadata": {},
   "outputs": [],
   "source": [
    "xg0  /= npoints\n",
    "xg00 /= npoints\n",
    "sigma2 = xg00 - xg0*xg0\n",
    "error  = sqrt(sigma2/npoints)"
   ]
  },
  {
   "cell_type": "markdown",
   "metadata": {},
   "source": [
    "Show the results"
   ]
  },
  {
   "cell_type": "code",
   "execution_count": 8,
   "metadata": {
    "scrolled": true
   },
   "outputs": [
    {
     "name": "stdout",
     "output_type": "stream",
     "text": [
      " integral for g(x) = (1-x)**5/x is:  6.930571779214825 +/- 0.00994417369724469\n"
     ]
    }
   ],
   "source": [
    "print (\" integral for g(x) = (1-x)**5/x is: \",xg0,\"+/-\", error)"
   ]
  },
  {
   "cell_type": "markdown",
   "metadata": {},
   "source": [
    "Get the exact value using incomplete beta function [https://en.wikipedia.org/wiki/Beta_function]\n"
   ]
  },
  {
   "cell_type": "code",
   "execution_count": 9,
   "metadata": {},
   "outputs": [
    {
     "name": "stdout",
     "output_type": "stream",
     "text": [
      "Exact value  6.927474792261806\n"
     ]
    }
   ],
   "source": [
    "x = 1-xmin\n",
    "a = 5\n",
    "b = -0.9999999999\n",
    "print (\"Exact value \", TMath.BetaIncomplete(x, a+1, b+1) * TMath.Beta(a+1, b+1))"
   ]
  }
 ],
 "metadata": {
  "kernelspec": {
   "display_name": "Python 3",
   "language": "python",
   "name": "python3"
  },
  "language_info": {
   "codemirror_mode": {
    "name": "ipython",
    "version": 3
   },
   "file_extension": ".py",
   "mimetype": "text/x-python",
   "name": "python",
   "nbconvert_exporter": "python",
   "pygments_lexer": "ipython3",
   "version": "3.8.5"
  }
 },
 "nbformat": 4,
 "nbformat_minor": 4
}
