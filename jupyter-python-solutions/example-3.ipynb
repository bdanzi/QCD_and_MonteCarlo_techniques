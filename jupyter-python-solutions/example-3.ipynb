{
 "cells": [
  {
   "cell_type": "markdown",
   "metadata": {},
   "source": [
    "#   Testing Monte Carlo integration.\n",
    "   We have a test function:  g0=3x**2\n",
    "   We weight the histo with the function value.\n",
    "   It is integrated over the region from 0 to 1.\n",
    "      \n",
    "   We calculate the result and its error.\n",
    "\n",
    "   \n",
    "###   Authors: H. Jung, A. Bermudez Martinez, L.I. Estevez Banos, J. Lidrych, M. Mendizabal Morentin, S. Taheri Monfared, P. L.S. Connor, Q. Wang, H. Yang, R. Zlebcik "
   ]
  },
  {
   "cell_type": "markdown",
   "metadata": {},
   "source": [
    "Define function which we want to integrate"
   ]
  },
  {
   "cell_type": "code",
   "execution_count": 1,
   "metadata": {},
   "outputs": [
    {
     "name": "stdout",
     "output_type": "stream",
     "text": [
      "Welcome to JupyROOT 6.22/06\n"
     ]
    }
   ],
   "source": [
    "from ROOT import gRandom\n",
    "from math import sqrt"
   ]
  },
  {
   "cell_type": "code",
   "execution_count": 2,
   "metadata": {},
   "outputs": [],
   "source": [
    "def g0(z):\n",
    "    return 3*z*z; \n"
   ]
  },
  {
   "cell_type": "code",
   "execution_count": 3,
   "metadata": {},
   "outputs": [],
   "source": [
    "gRandom.SetSeed(32767) #initialise random number generator"
   ]
  },
  {
   "cell_type": "markdown",
   "metadata": {},
   "source": [
    "Calculate the sum and sum2 of the function values at the random points"
   ]
  },
  {
   "cell_type": "code",
   "execution_count": 4,
   "metadata": {},
   "outputs": [],
   "source": [
    "xg0 = xg00 = 0\n",
    "npoints = 1000000\n",
    "for n in range(npoints):\n",
    "    x0 = gRandom.Uniform()\n",
    "    f  = g0(x0) \n",
    "    xg0 += f\n",
    "    xg00+= f**2\n"
   ]
  },
  {
   "cell_type": "markdown",
   "metadata": {},
   "source": [
    "Calculate average and average to the squared values"
   ]
  },
  {
   "cell_type": "code",
   "execution_count": 5,
   "metadata": {},
   "outputs": [],
   "source": [
    "avg  = xg0  / npoints\n",
    "avg2 = xg00 / npoints\n",
    "\n",
    "sigma2 = avg2 - avg*avg # Get the average deviation squared\n",
    "error = sqrt(sigma2/npoints) # error behaves as 1/sqrt(npoints)"
   ]
  },
  {
   "cell_type": "markdown",
   "metadata": {},
   "source": [
    "Finally the result"
   ]
  },
  {
   "cell_type": "code",
   "execution_count": 6,
   "metadata": {},
   "outputs": [
    {
     "name": "stdout",
     "output_type": "stream",
     "text": [
      " integral for 3x**2 is:  1.0017923940221762 +/- 0.0008948719309779665\n",
      " true integral for 3x**2 is : 1.0 \n"
     ]
    }
   ],
   "source": [
    "print (\" integral for 3x**2 is: \", avg, \"+/-\", error)\n",
    "print (\" true integral for 3x**2 is : 1.0 \")"
   ]
  }
 ],
 "metadata": {
  "kernelspec": {
   "display_name": "Python 3",
   "language": "python",
   "name": "python3"
  },
  "language_info": {
   "codemirror_mode": {
    "name": "ipython",
    "version": 3
   },
   "file_extension": ".py",
   "mimetype": "text/x-python",
   "name": "python",
   "nbconvert_exporter": "python",
   "pygments_lexer": "ipython3",
   "version": "3.8.5"
  }
 },
 "nbformat": 4,
 "nbformat_minor": 4
}
