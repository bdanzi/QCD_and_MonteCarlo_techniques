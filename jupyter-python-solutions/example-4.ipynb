{
 "cells": [
  {
   "cell_type": "markdown",
   "metadata": {},
   "source": [
    "#   Testing Monte Carlo integration\n",
    "##   We calculate the integral $\\int_0^x\\int_0^1 dxdy$ and its error.\n",
    "\n",
    "###   Authors: H. Jung, A. Bermudez Martinez, L.I. Estevez Banos, J. Lidrych, M. Mendizabal Morentin, S. Taheri Monfared, P. L.S. Connor, Q. Wang, H. Yang, R. Zlebcik "
   ]
  },
  {
   "cell_type": "markdown",
   "metadata": {},
   "source": [
    " Import what is needed"
   ]
  },
  {
   "cell_type": "code",
   "execution_count": 1,
   "metadata": {},
   "outputs": [
    {
     "name": "stdout",
     "output_type": "stream",
     "text": [
      "Welcome to JupyROOT 6.22/00\n"
     ]
    }
   ],
   "source": [
    "from ROOT import gRandom\n",
    "from math import sqrt"
   ]
  },
  {
   "cell_type": "markdown",
   "metadata": {},
   "source": [
    "Loop over random points in the 2D space"
   ]
  },
  {
   "cell_type": "code",
   "execution_count": 2,
   "metadata": {},
   "outputs": [],
   "source": [
    "npoints = 2000000"
   ]
  },
  {
   "cell_type": "markdown",
   "metadata": {},
   "source": [
    "initialise random number generator: "
   ]
  },
  {
   "cell_type": "code",
   "execution_count": 3,
   "metadata": {},
   "outputs": [],
   "source": [
    "gRandom.SetSeed(32767)"
   ]
  },
  {
   "cell_type": "code",
   "execution_count": 4,
   "metadata": {},
   "outputs": [],
   "source": [
    "nhit = 0\n",
    "\n",
    "for n in range(npoints):\n",
    "    x,y = gRandom.Uniform(), gRandom.Uniform()\n",
    "    # insert here the values for x,y and the rejection condition   \n",
    "    # accept if y < x\n",
    "    if y < x:\n",
    "        nhit += 1\n"
   ]
  },
  {
   "cell_type": "code",
   "execution_count": 5,
   "metadata": {},
   "outputs": [],
   "source": [
    "# Calculate the integral\n",
    "\n",
    "Int = float(nhit)/npoints"
   ]
  },
  {
   "cell_type": "code",
   "execution_count": 6,
   "metadata": {},
   "outputs": [],
   "source": [
    "# the uncertainty is calcualted from a Binominal distribution\n",
    "\n",
    "sigma2 = (1. - Int)/nhit\n",
    "error = sqrt(sigma2)*Int"
   ]
  },
  {
   "cell_type": "code",
   "execution_count": 7,
   "metadata": {
    "scrolled": true
   },
   "outputs": [
    {
     "name": "stdout",
     "output_type": "stream",
     "text": [
      " integral for  is:  0.499764 +/- 0.0003535533512102523\n",
      " true integral  is : 0.5 \n"
     ]
    }
   ],
   "source": [
    "print (\" integral for  is: \", Int, \"+/-\", error)\n",
    "print (\" true integral  is : 0.5 \")"
   ]
  },
  {
   "cell_type": "code",
   "execution_count": null,
   "metadata": {},
   "outputs": [],
   "source": []
  }
 ],
 "metadata": {
  "kernelspec": {
   "display_name": "Python 3",
   "language": "python",
   "name": "python3"
  },
  "language_info": {
   "codemirror_mode": {
    "name": "ipython",
    "version": 3
   },
   "file_extension": ".py",
   "mimetype": "text/x-python",
   "name": "python",
   "nbconvert_exporter": "python",
   "pygments_lexer": "ipython3",
   "version": "3.8.5"
  }
 },
 "nbformat": 4,
 "nbformat_minor": 4
}
