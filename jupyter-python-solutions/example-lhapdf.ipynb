{
 "cells": [
  {
   "cell_type": "markdown",
   "metadata": {},
   "source": [
    "# We calculate the momentum sum rule of a parton density function by performing explicitly the integral.\n",
    "We use the LHAPDF library to access the different PDF parameterisations.\n",
    "We check the momentum sum rule for a standard set, and for the LO* parameterisations.\n",
    "\n",
    "We use LHAPDF 6.3.0\n",
    "  \n",
    "   \n",
    "###   Authors: H. Jung, A. Bermudez Martinez, L.I. Estevez Banos, J. Lidrych, M. Mendizabal Morentin, S. Taheri Monfared, P. L.S. Connor, Q. Wang, H. Yang, R. Zlebcik \n"
   ]
  },
  {
   "cell_type": "code",
   "execution_count": 13,
   "metadata": {},
   "outputs": [
    {
     "ename": "ModuleNotFoundError",
     "evalue": "No module named 'lhapdf'",
     "output_type": "error",
     "traceback": [
      "\u001b[0;31m---------------------------------------------------------------------------\u001b[0m",
      "\u001b[0;31mModuleNotFoundError\u001b[0m                       Traceback (most recent call last)",
      "\u001b[0;32m<ipython-input-13-9a4379e0c256>\u001b[0m in \u001b[0;36m<module>\u001b[0;34m\u001b[0m\n\u001b[1;32m      1\u001b[0m \u001b[0;32mfrom\u001b[0m \u001b[0mROOT\u001b[0m \u001b[0;32mimport\u001b[0m \u001b[0mgRandom\u001b[0m\u001b[0;34m\u001b[0m\u001b[0;34m\u001b[0m\u001b[0m\n\u001b[1;32m      2\u001b[0m \u001b[0;32mfrom\u001b[0m \u001b[0mmath\u001b[0m \u001b[0;32mimport\u001b[0m \u001b[0msqrt\u001b[0m\u001b[0;34m,\u001b[0m \u001b[0mlog\u001b[0m\u001b[0;34m\u001b[0m\u001b[0;34m\u001b[0m\u001b[0m\n\u001b[0;32m----> 3\u001b[0;31m \u001b[0;32mimport\u001b[0m \u001b[0mlhapdf\u001b[0m\u001b[0;34m\u001b[0m\u001b[0;34m\u001b[0m\u001b[0m\n\u001b[0m",
      "\u001b[0;32m/opt/root/lib/ROOT/_facade.py\u001b[0m in \u001b[0;36m_importhook\u001b[0;34m(name, *args, **kwds)\u001b[0m\n\u001b[1;32m    119\u001b[0m                 \u001b[0;32mexcept\u001b[0m \u001b[0mException\u001b[0m\u001b[0;34m:\u001b[0m\u001b[0;34m\u001b[0m\u001b[0;34m\u001b[0m\u001b[0m\n\u001b[1;32m    120\u001b[0m                     \u001b[0;32mpass\u001b[0m\u001b[0;34m\u001b[0m\u001b[0;34m\u001b[0m\u001b[0m\n\u001b[0;32m--> 121\u001b[0;31m             \u001b[0;32mreturn\u001b[0m \u001b[0m_orig_ihook\u001b[0m\u001b[0;34m(\u001b[0m\u001b[0mname\u001b[0m\u001b[0;34m,\u001b[0m \u001b[0;34m*\u001b[0m\u001b[0margs\u001b[0m\u001b[0;34m,\u001b[0m \u001b[0;34m**\u001b[0m\u001b[0mkwds\u001b[0m\u001b[0;34m)\u001b[0m\u001b[0;34m\u001b[0m\u001b[0;34m\u001b[0m\u001b[0m\n\u001b[0m\u001b[1;32m    122\u001b[0m         \u001b[0m__builtin__\u001b[0m\u001b[0;34m.\u001b[0m\u001b[0m__import__\u001b[0m \u001b[0;34m=\u001b[0m \u001b[0m_importhook\u001b[0m\u001b[0;34m\u001b[0m\u001b[0;34m\u001b[0m\u001b[0m\n\u001b[1;32m    123\u001b[0m \u001b[0;34m\u001b[0m\u001b[0m\n",
      "\u001b[0;31mModuleNotFoundError\u001b[0m: No module named 'lhapdf'"
     ]
    }
   ],
   "source": [
    "from ROOT import gRandom\n",
    "from math import sqrt, log\n",
    "import lhapdf"
   ]
  },
  {
   "cell_type": "markdown",
   "metadata": {},
   "source": [
    "Import the pdf by name"
   ]
  },
  {
   "cell_type": "code",
   "execution_count": 10,
   "metadata": {},
   "outputs": [
    {
     "ename": "NameError",
     "evalue": "name 'lhapdf' is not defined",
     "output_type": "error",
     "traceback": [
      "\u001b[0;31m---------------------------------------------------------------------------\u001b[0m",
      "\u001b[0;31mNameError\u001b[0m                                 Traceback (most recent call last)",
      "\u001b[0;32m<ipython-input-10-45c064011148>\u001b[0m in \u001b[0;36m<module>\u001b[0;34m\u001b[0m\n\u001b[1;32m      4\u001b[0m \u001b[0;31m#name = \"MRST2007lomod\"  # LO * pdf\u001b[0m\u001b[0;34m\u001b[0m\u001b[0;34m\u001b[0m\u001b[0;34m\u001b[0m\u001b[0m\n\u001b[1;32m      5\u001b[0m \u001b[0;31m#name = \"MRSTMCal\" # LO** pdf\u001b[0m\u001b[0;34m\u001b[0m\u001b[0;34m\u001b[0m\u001b[0;34m\u001b[0m\u001b[0m\n\u001b[0;32m----> 6\u001b[0;31m \u001b[0mpdf\u001b[0m \u001b[0;34m=\u001b[0m \u001b[0mlhapdf\u001b[0m\u001b[0;34m.\u001b[0m\u001b[0mgetPDFSet\u001b[0m\u001b[0;34m(\u001b[0m\u001b[0mname\u001b[0m\u001b[0;34m)\u001b[0m\u001b[0;34m.\u001b[0m\u001b[0mmkPDF\u001b[0m\u001b[0;34m(\u001b[0m\u001b[0;36m0\u001b[0m\u001b[0;34m)\u001b[0m\u001b[0;34m\u001b[0m\u001b[0;34m\u001b[0m\u001b[0m\n\u001b[0m",
      "\u001b[0;31mNameError\u001b[0m: name 'lhapdf' is not defined"
     ]
    }
   ],
   "source": [
    "#name = \"MRST2007lomod\"\t\n",
    "#name = \"PB-TMDNLO-HERAI+II-2018-set1\"\n",
    "name = \"PB-TMDNLO-HERAI+II-2018-set2\"\n",
    "#name = \"MRST2007lomod\"  # LO * pdf \n",
    "#name = \"MRSTMCal\" # LO** pdf \n",
    "pdf = lhapdf.getPDFSet(name).mkPDF(0)"
   ]
  },
  {
   "cell_type": "code",
   "execution_count": 21,
   "metadata": {},
   "outputs": [],
   "source": [
    "gRandom.SetSeed(32767) # initialise random number generator"
   ]
  },
  {
   "cell_type": "markdown",
   "metadata": {},
   "source": [
    "print the pdf description and infos on pdf"
   ]
  },
  {
   "cell_type": "code",
   "execution_count": 22,
   "metadata": {},
   "outputs": [
    {
     "name": "stdout",
     "output_type": "stream",
     "text": [
      "\n",
      " alphas(mz) =  0.11799755134948405\n",
      " orderPDF   =  1\n",
      " xmin       =  1e-05\n",
      " xmax       =  1.0\n",
      " q2min      =  1.89998656\n",
      " q2max      =  189998656.0\n",
      "--------------------------------------\n"
     ]
    }
   ],
   "source": [
    "print(pdf.description)\n",
    "\n",
    "print(\" alphas(mz) = \", pdf.alphasQ(91.2))\n",
    "print(\" orderPDF   = \", pdf.orderQCD)\n",
    "print(\" xmin       = \", pdf.xMin)\n",
    "print(\" xmax       = \", pdf.xMax)\n",
    "print(\" q2min      = \", pdf.q2Min) \n",
    "print(\" q2max      = \", pdf.q2Max)\n",
    "print(\"--------------------------------------\")"
   ]
  },
  {
   "cell_type": "code",
   "execution_count": 23,
   "metadata": {},
   "outputs": [],
   "source": [
    "xmin, xmax = pdf.xMin, pdf.xMax # Get the xmin and xmin from info in the PDF set"
   ]
  },
  {
   "cell_type": "code",
   "execution_count": 24,
   "metadata": {},
   "outputs": [],
   "source": [
    "Q = 10.0 # We will evaluate the sum rule at scale 10 GeV"
   ]
  },
  {
   "cell_type": "markdown",
   "metadata": {},
   "source": [
    "MC integration with importance sampling 1/x (or linear samopling)"
   ]
  },
  {
   "cell_type": "code",
   "execution_count": 25,
   "metadata": {},
   "outputs": [],
   "source": [
    "npoints = 100000\n",
    "sum0 = sum00 = 0\n",
    "for n in range(npoints):\n",
    "    # for simple integration\n",
    "    # x = xmin + (xmax-xmin)*Rand();\n",
    "    # for importance sampling\n",
    "    x = xmin * (xmax/xmin)**gRandom.Uniform()\n",
    "    #  sum over all flavors for mom sum rule\n",
    "    f=0\n",
    "    for flavor in range(-6, 6):\n",
    "        # the pdf from LHAPDFLIB is called via: xfx(x,Q,flavor) \n",
    "        # with x=fractional momentum\n",
    "        # Q = sqrt(q2), the sqrt of the scale\n",
    "        # flavor = -6,.. ,6 the flavor code of the parton, \n",
    "        # flavor: 0=gluon, 1=down, 2=up, 3=strange, 4=charm, 5=bottom 6=top         \n",
    "\n",
    "        f += pdf.xfxQ(flavor, x, Q)\n",
    "\n",
    "    #  take only flavor 1 (2) for flavor sum rule\n",
    "    # flavor = 2\n",
    "    # f = (pdf.xfxQ(flavor, x, Q) -pdf.xfxQ(-flavor, x, Q))/x\n",
    "\n",
    "    #  take only gluon for gluon momentum fraction\n",
    "    flavor = 0;\n",
    "    f = pdf.xfxQ(flavor, x, Q)  \n",
    "    \n",
    "    # for simple integration\n",
    "    # ff = f*(xmax-xmin);\n",
    "    # for importance sampling\n",
    "    # divide f(x) with g(x) = 1/x since we generate x according to g(x). \n",
    "    ff = f*x*log(xmax/xmin)\n",
    "    sum0  +=  ff\n",
    "    sum00 +=  ff**2"
   ]
  },
  {
   "cell_type": "markdown",
   "metadata": {},
   "source": [
    "Normalize to npoints and calculate the error"
   ]
  },
  {
   "cell_type": "code",
   "execution_count": 26,
   "metadata": {},
   "outputs": [],
   "source": [
    "sum0  /= npoints\n",
    "sum00 /= npoints\n",
    "sigma2 = sum00 - sum0*sum0\n",
    "error = sqrt(sigma2/npoints)"
   ]
  },
  {
   "cell_type": "markdown",
   "metadata": {},
   "source": [
    "And finally result"
   ]
  },
  {
   "cell_type": "code",
   "execution_count": 27,
   "metadata": {},
   "outputs": [
    {
     "name": "stdout",
     "output_type": "stream",
     "text": [
      " sum rule is:  0.4148969538075733 +/- 0.0013279951537062016\n"
     ]
    }
   ],
   "source": [
    "print (\" sum rule is: \", sum0, \"+/-\", error)"
   ]
  },
  {
   "cell_type": "markdown",
   "metadata": {},
   "source": [
    "### Plot some PDFs "
   ]
  },
  {
   "cell_type": "markdown",
   "metadata": {},
   "source": [
    "Import what is needed"
   ]
  },
  {
   "cell_type": "code",
   "execution_count": 28,
   "metadata": {},
   "outputs": [],
   "source": [
    "from ROOT import TGraph, TCanvas, kRed"
   ]
  },
  {
   "cell_type": "markdown",
   "metadata": {},
   "source": [
    "Evaluate the gluon and up-quark pdf at the xPoints with logarithmic spacing"
   ]
  },
  {
   "cell_type": "code",
   "execution_count": 29,
   "metadata": {},
   "outputs": [],
   "source": [
    "n = 100\n",
    "xPoints = [10**(5*x/float(n)) for x in range(-n,0) ]\n",
    "gPoints = [pdf.xfxQ(0, x, Q) for x in xPoints ] # 0 for gluon\n",
    "uPoints = [pdf.xfxQ(2, x, Q) for x in xPoints ] # 2 for up-quark"
   ]
  },
  {
   "cell_type": "markdown",
   "metadata": {},
   "source": [
    "Fill the TGraph object with the values of the lists above"
   ]
  },
  {
   "cell_type": "code",
   "execution_count": 30,
   "metadata": {},
   "outputs": [],
   "source": [
    "grG,grU = TGraph(), TGraph()\n",
    "for i in range(n):\n",
    "    grG.SetPoint(i, xPoints[i], gPoints[i])\n",
    "    grU.SetPoint(i, xPoints[i], uPoints[i])"
   ]
  },
  {
   "cell_type": "markdown",
   "metadata": {},
   "source": [
    "Plotting"
   ]
  },
  {
   "cell_type": "code",
   "execution_count": 31,
   "metadata": {},
   "outputs": [
    {
     "data": {
      "image/png": "[encoded data removed]",
      "text/plain": [
       "<IPython.core.display.Image object>"
      ]
     },
     "metadata": {},
     "output_type": "display_data"
    }
   ],
   "source": [
    "c = TCanvas()\n",
    "c.SetLogx();\n",
    "c.SetLogy();\n",
    "grG.SetLineColor(kRed)\n",
    "grG.Draw(\"alp\")\n",
    "grU.Draw(\"lp same\")\n",
    "c.Draw()"
   ]
  }
 ],
 "metadata": {
  "kernelspec": {
   "display_name": "Python 3",
   "language": "python",
   "name": "python3"
  },
  "language_info": {
   "codemirror_mode": {
    "name": "ipython",
    "version": 3
   },
   "file_extension": ".py",
   "mimetype": "text/x-python",
   "name": "python",
   "nbconvert_exporter": "python",
   "pygments_lexer": "ipython3",
   "version": "3.8.5"
  }
 },
 "nbformat": 4,
 "nbformat_minor": 4
}
